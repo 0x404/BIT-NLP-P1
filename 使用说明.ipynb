{
 "cells": [
  {
   "cell_type": "markdown",
   "metadata": {},
   "source": [
    "**如需运行本文件，请将本文件放在Project1文件夹内运行(与myNLP在同一个目录下)**"
   ]
  },
  {
   "cell_type": "code",
   "execution_count": 1,
   "id": "7f5bc76b",
   "metadata": {},
   "outputs": [],
   "source": [
    "import myNLP"
   ]
  },
  {
   "cell_type": "markdown",
   "id": "094d2b2e",
   "metadata": {},
   "source": [
    "## 分词使用\n",
    "\n",
    "### 功能支持\n",
    "* 支持5种分词算法：使用哪种算法写在参数中即可\n",
    "* 支持进度条显示（目前仅HMM算法支持）\n",
    "* 支持单句子处理和多文本处理：使用多文本批处理，只需要传入一个单句列表即可\n",
    "* 支持HMM即时训练模型和使用本地模型，选择哪个在参数中进行选择即可\n",
    "\n",
    "### 使用说明\n",
    "myNLP.cut(sentences, HMM = False, FMM = False, RMM = False, BMM = False, shortPath = False, progressBar = False, useModel = False)\n",
    "* sentences: 待分词的句子或者一个句子列表\n",
    "* HMM：使用HMM算法进行分词，但使用HMM时可以添加参数useModel，使用本地训练的模型\n",
    "* FMM：使用FMM算法进行分词\n",
    "* RMM：使用RMM算法进行分词\n",
    "* BMM：使用BMM算法进行分词\n",
    "* shortPath：使用最短路算法进行分词\n",
    "* progressBar：显示进度条\n",
    "* 如果传入一个字符串，则返回一个分词结果列表；如果传入一个字符串列表，则返回一个分词结果矩阵。"
   ]
  },
  {
   "cell_type": "code",
   "execution_count": 2,
   "id": "1c094a2a",
   "metadata": {},
   "outputs": [
    {
     "name": "stdout",
     "output_type": "stream",
     "text": [
      "[['人生', '如', '逆旅', '，', '我', '亦', '是', '行人', '。']]\n"
     ]
    }
   ],
   "source": [
    "# 使用HMM分词，不使用本地模型\n",
    "res = myNLP.cut(\"人生如逆旅，我亦是行人。\", HMM=True)\n",
    "print (res)"
   ]
  },
  {
   "cell_type": "code",
   "execution_count": 3,
   "id": "3d174088",
   "metadata": {},
   "outputs": [
    {
     "name": "stdout",
     "output_type": "stream",
     "text": [
      "[['人生', '如', '逆旅', '，', '我', '亦', '是', '行人', '。']]\n"
     ]
    }
   ],
   "source": [
    "# 使用HMM分词，使用本地模型\n",
    "res = myNLP.cut(\"人生如逆旅，我亦是行人。\", HMM=True, useModel=True)\n",
    "print (res)"
   ]
  },
  {
   "cell_type": "code",
   "execution_count": 4,
   "id": "340e15fe",
   "metadata": {},
   "outputs": [
    {
     "name": "stdout",
     "output_type": "stream",
     "text": [
      "[['人生', '如', '逆', '旅', '，', '我', '亦', '是', '行人', '。']]\n"
     ]
    }
   ],
   "source": [
    "# 使用FMM分词\n",
    "res = myNLP.cut(\"人生如逆旅，我亦是行人。\", FMM=True)\n",
    "print (res)"
   ]
  },
  {
   "cell_type": "code",
   "execution_count": 5,
   "id": "4c634426",
   "metadata": {},
   "outputs": [
    {
     "name": "stdout",
     "output_type": "stream",
     "text": [
      "[['人生', '如', '逆', '旅', '，', '我', '亦', '是', '行人', '。']]\n"
     ]
    }
   ],
   "source": [
    "# 使用RMM分词\n",
    "res = myNLP.cut(\"人生如逆旅，我亦是行人。\", RMM=True)\n",
    "print (res)"
   ]
  },
  {
   "cell_type": "code",
   "execution_count": 6,
   "id": "8eed99e0",
   "metadata": {},
   "outputs": [
    {
     "name": "stdout",
     "output_type": "stream",
     "text": [
      "[['人生', '如', '逆', '旅', '，', '我', '亦', '是', '行人', '。']]\n"
     ]
    }
   ],
   "source": [
    "# 使用BMM分词\n",
    "res = myNLP.cut(\"人生如逆旅，我亦是行人。\", BMM=True)\n",
    "print (res)"
   ]
  },
  {
   "cell_type": "code",
   "execution_count": 7,
   "id": "6aced7de",
   "metadata": {},
   "outputs": [
    {
     "name": "stdout",
     "output_type": "stream",
     "text": [
      "[['人生', '如', '逆', '旅', '，', '我', '亦', '是', '行人', '。']]\n"
     ]
    }
   ],
   "source": [
    "# 使用最短路分词\n",
    "res = myNLP.cut(\"人生如逆旅，我亦是行人。\", shortPath=True)\n",
    "print (res)"
   ]
  },
  {
   "cell_type": "code",
   "execution_count": 8,
   "id": "55ea03db",
   "metadata": {},
   "outputs": [
    {
     "name": "stdout",
     "output_type": "stream",
     "text": [
      "---------------------------开始分词---------------------------\n",
      "100%[**************************************************->]0.00s\n",
      "---------------------------分词完成---------------------------\n",
      "[['人生', '如', '逆旅', '，', '我', '亦', '是', '行人', '。']]\n"
     ]
    }
   ],
   "source": [
    "# 显示进度条\n",
    "# 使用HMM分词，使用本地模型\n",
    "res = myNLP.cut(\"人生如逆旅，我亦是行人。\", HMM=True, useModel=True, progressBar=True)\n",
    "print (res)"
   ]
  },
  {
   "cell_type": "code",
   "execution_count": 9,
   "id": "3c13ff0e",
   "metadata": {},
   "outputs": [
    {
     "name": "stdout",
     "output_type": "stream",
     "text": [
      "[['欲', '买', '桂花', '同', '载', '酒'], ['终', '不', '似', '，', '少年', '游', '。']]\n"
     ]
    }
   ],
   "source": [
    "# 进行批量分词，只需要将字符串换成字符串列表即可\n",
    "# 使用最短路分词\n",
    "\n",
    "sentences = [\"欲买桂花同载酒\",\n",
    "             \"终不似，少年游。\"\n",
    "            ]\n",
    "res = myNLP.cut(sentences, shortPath=True)\n",
    "print (res)\n"
   ]
  },
  {
   "cell_type": "markdown",
   "id": "61f504b2",
   "metadata": {},
   "source": [
    "## 词性标注\n",
    "\n",
    "### 功能支持\n",
    "* 支持HMM即时训练和使用本地模型\n",
    "* 支持进度条显示\n",
    "* 支持单句处理和多句批处理，只需要将传入的句子改为单句列表即可\n",
    "\n",
    "### 使用说明\n",
    "myNLP.tag(sentences, HMM = True, progressBar = False, useModel = False)\n",
    "* sentences：带标注的已分词列表，一个句子为一个列表。如果要进行多个句子批处理，则传入一个矩阵。\n",
    "* HMM：默认使用HMM算法进行词性标注，目前只实现了HMM算法。\n",
    "* progressBar：显示进度条\n",
    "* useModel：使用本地模型\n",
    "* 如果传入一个列表，返回为一个标注完成的列表；如果传入一个矩阵，则返回一个标注完成的矩阵。"
   ]
  },
  {
   "cell_type": "code",
   "execution_count": 10,
   "id": "be31d88a",
   "metadata": {},
   "outputs": [
    {
     "name": "stdout",
     "output_type": "stream",
     "text": [
      "[['人生/n', '如/v', '逆旅/n', '，/w', '我/r', '亦/d', '是/v', '行人/n', '。/w']]\n"
     ]
    }
   ],
   "source": [
    "# 使用HMM，不使用本地模型\n",
    "res = myNLP.tag(['人生', '如', '逆旅', '，', '我', '亦', '是', '行人', '。'])\n",
    "print (res)"
   ]
  },
  {
   "cell_type": "code",
   "execution_count": 11,
   "id": "bedc226a",
   "metadata": {},
   "outputs": [
    {
     "name": "stdout",
     "output_type": "stream",
     "text": [
      "[['人生/n', '如/v', '逆旅/n', '，/w', '我/r', '亦/d', '是/v', '行人/n', '。/w']]\n"
     ]
    }
   ],
   "source": [
    "# 使用HMM进行词性标注，使用本地模型\n",
    "res = myNLP.tag(['人生', '如', '逆旅', '，', '我', '亦', '是', '行人', '。'], useModel=True)\n",
    "print (res)"
   ]
  },
  {
   "cell_type": "code",
   "execution_count": 12,
   "id": "c467f4b1",
   "metadata": {},
   "outputs": [
    {
     "name": "stdout",
     "output_type": "stream",
     "text": [
      "---------------------------开始标注---------------------------\n",
      "100%[**************************************************->]0.02s\n",
      "---------------------------标注完成---------------------------\n",
      "[['人生/n', '如/v', '逆旅/n', '，/w', '我/r', '亦/d', '是/v', '行人/n', '。/w']]\n"
     ]
    }
   ],
   "source": [
    "# 使用HMM进行词性标注，使用本地模型，显示进度条\n",
    "res = myNLP.tag(['人生', '如', '逆旅', '，', '我', '亦', '是', '行人', '。'], useModel=True, progressBar=True)\n",
    "print (res)"
   ]
  },
  {
   "cell_type": "code",
   "execution_count": 13,
   "id": "48c18433",
   "metadata": {},
   "outputs": [
    {
     "name": "stdout",
     "output_type": "stream",
     "text": [
      "---------------------------开始标注---------------------------\n",
      "100%[**************************************************->]0.01s\n",
      "---------------------------标注完成---------------------------\n",
      "[['人生/n', '如/v', '逆旅/n', '，/w'], ['我/r', '亦/d', '是/v', '行人/n', '。/w']]\n"
     ]
    }
   ],
   "source": [
    "# 批处理词性标注，只需要将列表换成一个二维矩阵即可\n",
    "# 使用HMM进行词性标注批处理，使用本地模型，显示进度条\n",
    "sentences = [['人生', '如', '逆旅', '，'],\n",
    "             ['我', '亦', '是', '行人', '。']\n",
    "            ]\n",
    "res = myNLP.tag(sentences, HMM=True, useModel=True, progressBar=True)\n",
    "print (res)"
   ]
  },
  {
   "cell_type": "markdown",
   "id": "ba2836cb",
   "metadata": {},
   "source": [
    "## 命名实体识别\n",
    "\n",
    "### 功能支持\n",
    "* 支持HMM即时训练和使用本地模型\n",
    "* 支持进度条显示\n",
    "* 支持单句处理和多句批处理，只需要将传入的句子改为单句列表即可\n",
    "\n",
    "### 使用说明\n",
    "myNLP.ner(sentences, HMM = True, progressBar = False, useModel = False)\n",
    "* sentences：待识别的已分词的列表，或者矩阵\n",
    "* HMM：默认使用HMM进行命名实体识别\n",
    "* progressBar：显示进度条\n",
    "* useModel：使用本地模型"
   ]
  },
  {
   "cell_type": "code",
   "execution_count": 14,
   "id": "0a89e74a",
   "metadata": {},
   "outputs": [
    {
     "name": "stdout",
     "output_type": "stream",
     "text": [
      "[{'people': [], 'location': ['长安街', '人民大会堂'], 'organization': ['中共北京市委宣传部']}]\n"
     ]
    }
   ],
   "source": [
    "# 命名实体识别\n",
    "# 使用HMM进行命名实体识别，不使用本地模型\n",
    "# res = myNLP.ner(\"\")\n",
    "sentence = ['今晚', '的', '长安街', '流光溢彩', '，', '火树银花', '；', '人民', '大会堂', '里', '灯火辉煌', '，', '充满', '欢乐', '祥和', '的', '喜庆', '气氛', '。', '在', '这', '场', '由', '中共', '北京', '市委', '宣传部', '、', '市政府', '办公厅', '等', '单位', '主办', '的', '活动', '。']\n",
    "res = myNLP.ner(sentence, HMM=True)\n",
    "print (res)"
   ]
  },
  {
   "cell_type": "code",
   "execution_count": 15,
   "id": "31474bd3",
   "metadata": {},
   "outputs": [
    {
     "name": "stdout",
     "output_type": "stream",
     "text": [
      "人名： []\n",
      "地名： ['长安街', '人民大会堂']\n",
      "机构名： ['中共北京市委宣传部']\n"
     ]
    }
   ],
   "source": [
    "# 命名实体识别\n",
    "# 使用HMM进行命名实体识别，使用本地模型\n",
    "# res = myNLP.ner(\"\")\n",
    "sentence = ['今晚', '的', '长安街', '流光溢彩', '，', '火树银花', '；', '人民', '大会堂', '里', '灯火辉煌', '，', '充满', '欢乐', '祥和', '的', '喜庆', '气氛', '。', '在', '这', '场', '由', '中共', '北京', '市委', '宣传部', '、', '市政府', '办公厅', '等', '单位', '主办', '的', '活动', '。']\n",
    "res = myNLP.ner(sentence, HMM=True, useModel=True)[0] # 返回的结果是一个字典列表\n",
    "people = res[\"people\"]\n",
    "location = res[\"location\"]\n",
    "organization = res[\"organization\"]\n",
    "print (\"人名：\", people)\n",
    "print (\"地名：\", location)\n",
    "print (\"机构名：\", organization)"
   ]
  },
  {
   "cell_type": "code",
   "execution_count": 16,
   "id": "745757f2",
   "metadata": {},
   "outputs": [
    {
     "name": "stdout",
     "output_type": "stream",
     "text": [
      "---------------------------开始识别---------------------------\n",
      "100%[**************************************************->]0.01s\n",
      "---------------------------识别完成---------------------------\n",
      "人名： []\n",
      "地名： ['长安街', '人民大会堂']\n",
      "机构名： ['中共北京市委宣传部']\n"
     ]
    }
   ],
   "source": [
    "# 命名实体识别\n",
    "# 同样支持批处理，只需要把传入的列表换成二维矩阵即可\n",
    "sentence = [['今晚', '的', '长安街', '流光溢彩', '，', '火树银花', '；'], \n",
    "            ['人民', '大会堂', '里', '灯火辉煌', '，', '充满', '欢乐', '祥和', '的', '喜庆', '气氛', '。', '在', '这', '场', '由', '中共', '北京', '市委', '宣传部', '、', '市政府', '办公厅', '等', '单位', '主办', '的', '活动', '。']\n",
    "           ]\n",
    "res = myNLP.ner(sentence, HMM=True, useModel=True, progressBar=True) # 返回的结果是一个字典列表\n",
    "people, location, organization = [], [], []\n",
    "for dic in res:\n",
    "    people += dic[\"people\"]\n",
    "    location += dic[\"location\"]\n",
    "    organization += dic[\"organization\"]\n",
    "print (\"人名：\", people)\n",
    "print (\"地名：\", location)\n",
    "print (\"机构名：\", organization)"
   ]
  },
  {
   "cell_type": "markdown",
   "metadata": {},
   "source": [
    "## 综合应用\n",
    "\n",
    "之所以把词性标注和命名实体识别的输入设置为一个已经分词的结果，而不是一个正常的句子。\n",
    "主要是考虑到设计的灵活性，有可能用户只想使用词性标注，而自己实现了某种分词的算法。\n",
    "而如果将词性标注的功能写死，则用户想要使用词性标注或者命名实体识别，只能实现当前包里面支持的分词算法。\n",
    "下面展示如何将上诉功能综合应用，实现一个句子的词性标注和命名实体识别。"
   ]
  },
  {
   "cell_type": "code",
   "execution_count": 17,
   "metadata": {},
   "outputs": [
    {
     "name": "stdout",
     "output_type": "stream",
     "text": [
      "句子： 今晚的长安街流光溢彩，火树银花\n",
      "分词结果： [['今晚', '的', '长安街', '流光溢彩', '，', '火树银花']]\n",
      "词性标注结果： [['今晚/t', '的/u', '长安街/ns', '流光溢彩/l', '，/w', '火树银花/i']]\n",
      "命名实体结果： [{'people': [], 'location': ['长安街'], 'organization': []}]\n"
     ]
    }
   ],
   "source": [
    "sentence = \"今晚的长安街流光溢彩，火树银花\"\n",
    "cut_res = myNLP.cut(sentence, FMM=True)\n",
    "tag_res = myNLP.tag(cut_res, useModel=True)\n",
    "ner_res = myNLP.ner(cut_res, useModel=True)\n",
    "\n",
    "print (\"句子：\", sentence)\n",
    "print (\"分词结果：\", cut_res)\n",
    "print (\"词性标注结果：\", tag_res)\n",
    "print (\"命名实体结果：\", ner_res)\n"
   ]
  },
  {
   "cell_type": "markdown",
   "metadata": {},
   "source": [
    "## 结果评测\n",
    "\n",
    "评测所用的测试集已在代码中写好，如果需要对某个算法进行评测，只需要调用myNLP中的evaluate函数即可"
   ]
  },
  {
   "cell_type": "code",
   "execution_count": 18,
   "metadata": {},
   "outputs": [
    {
     "name": "stdout",
     "output_type": "stream",
     "text": [
      "---------------------------开始分词---------------------------\n",
      "100%[**************************************************->]88.04s\n",
      "---------------------------分词完成---------------------------\n",
      "使用HMM算法进行测试，测试集规模为100000, 测试共进行96.75s\n",
      "准确率 =  0.7789998184012452\n",
      "召回率 =  0.7863058510058747\n",
      "f1 =  0.7826357843237322\n"
     ]
    }
   ],
   "source": [
    "# 评测分词的HMM算法\n",
    "precision, recall, f1 = myNLP.evaluateCut(HMM=True)\n",
    "print (\"准确率 = \", precision)\n",
    "print (\"召回率 = \", recall)\n",
    "print (\"f1 = \", f1)"
   ]
  },
  {
   "cell_type": "code",
   "execution_count": 5,
   "metadata": {},
   "outputs": [
    {
     "name": "stdout",
     "output_type": "stream",
     "text": [
      "使用FMM算法进行测试，测试集规模为100000, 测试共进行65.08s\n",
      "准确率 =  0.7885834203338712\n",
      "召回率 =  0.8626867788896005\n",
      "f1 =  0.8239723469768789\n"
     ]
    }
   ],
   "source": [
    "# 评测分词的FMM算法\n",
    "precision, recall, f1 = myNLP.evaluateCut(FMM=True)\n",
    "print (\"准确率 = \", precision)\n",
    "print (\"召回率 = \", recall)\n",
    "print (\"f1 = \", f1)"
   ]
  },
  {
   "cell_type": "code",
   "execution_count": 6,
   "metadata": {},
   "outputs": [
    {
     "name": "stdout",
     "output_type": "stream",
     "text": [
      "使用RMM算法进行测试，测试集规模为100000, 测试共进行64.75s\n",
      "准确率 =  0.7930475263546711\n",
      "召回率 =  0.8669065685752142\n",
      "f1 =  0.8283338821104314\n"
     ]
    }
   ],
   "source": [
    "# 评测分词的RMM算法\n",
    "precision, recall, f1 = myNLP.evaluateCut(RMM=True)\n",
    "print (\"准确率 = \", precision)\n",
    "print (\"召回率 = \", recall)\n",
    "print (\"f1 = \", f1)"
   ]
  },
  {
   "cell_type": "code",
   "execution_count": 7,
   "metadata": {},
   "outputs": [
    {
     "name": "stdout",
     "output_type": "stream",
     "text": [
      "使用BMM算法进行测试，测试集规模为100000, 测试共进行124.25s\n",
      "准确率 =  0.7932202926081842\n",
      "召回率 =  0.8670954251002285\n",
      "f1 =  0.8285143355343616\n"
     ]
    }
   ],
   "source": [
    "# 评测分词的BMM算法\n",
    "precision, recall, f1 = myNLP.evaluateCut(BMM=True)\n",
    "print (\"准确率 = \", precision)\n",
    "print (\"召回率 = \", recall)\n",
    "print (\"f1 = \", f1)"
   ]
  },
  {
   "cell_type": "code",
   "execution_count": 8,
   "metadata": {},
   "outputs": [
    {
     "name": "stdout",
     "output_type": "stream",
     "text": [
      "使用shortPath算法进行测试，测试集规模为100000, 测试共进行111.70s\n",
      "准确率 =  0.7930475263546711\n",
      "召回率 =  0.8669065685752142\n",
      "f1 =  0.8283338821104314\n"
     ]
    }
   ],
   "source": [
    "# 评测分词的最短路径算法\n",
    "precision, recall, f1 = myNLP.evaluateCut(shortPath=True)\n",
    "print (\"准确率 = \", precision)\n",
    "print (\"召回率 = \", recall)\n",
    "print (\"f1 = \", f1)"
   ]
  },
  {
   "cell_type": "code",
   "execution_count": 9,
   "metadata": {},
   "outputs": [
    {
     "name": "stdout",
     "output_type": "stream",
     "text": [
      "---------------------------开始标注---------------------------\n",
      "100%[**************************************************->]185.87s\n",
      "---------------------------标注完成---------------------------\n",
      "准确率 =  0.9305736412857241\n",
      "召回率 =  0.9305736412857241\n",
      "f1 =  0.9305736412857241\n"
     ]
    }
   ],
   "source": [
    "# 评测词性标注算法\n",
    "precision, recall, f1 = myNLP.evaluateTag()\n",
    "print (\"准确率 = \", precision)\n",
    "print (\"召回率 = \", recall)\n",
    "print (\"f1 = \", f1)"
   ]
  },
  {
   "cell_type": "code",
   "execution_count": 19,
   "metadata": {},
   "outputs": [
    {
     "name": "stdout",
     "output_type": "stream",
     "text": [
      "---------------------------开始识别---------------------------\n",
      "100%[**************************************************->]16.18s\n",
      "---------------------------识别完成---------------------------\n",
      "准确率 =  0.9299129638112689\n",
      "召回率 =  0.7080572026508546\n",
      "f1 =  0.803960396039604\n"
     ]
    }
   ],
   "source": [
    "# 评测命名实体识别算法\n",
    "precision, recall, f1 = myNLP.evaluateNer()\n",
    "print (\"准确率 = \", precision)\n",
    "print (\"召回率 = \", recall)\n",
    "print (\"f1 = \", f1)"
   ]
  }
 ],
 "metadata": {
  "interpreter": {
   "hash": "07efdcd4b820c98a756949507a4d29d7862823915ec7477944641bea022f4f62"
  },
  "kernelspec": {
   "display_name": "Python 3.7.10 64-bit ('base': conda)",
   "name": "python3"
  },
  "language_info": {
   "codemirror_mode": {
    "name": "ipython",
    "version": 3
   },
   "file_extension": ".py",
   "mimetype": "text/x-python",
   "name": "python",
   "nbconvert_exporter": "python",
   "pygments_lexer": "ipython3",
   "version": "3.7.10"
  }
 },
 "nbformat": 4,
 "nbformat_minor": 5
}
